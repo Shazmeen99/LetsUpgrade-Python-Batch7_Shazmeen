{
  "nbformat": 4,
  "nbformat_minor": 0,
  "metadata": {
    "colab": {
      "name": "Day 4 .ipynb",
      "provenance": [],
      "authorship_tag": "ABX9TyPxZ/hvcc+eI0yqw/MRbEW8",
      "include_colab_link": true
    },
    "kernelspec": {
      "name": "python3",
      "display_name": "Python 3"
    }
  },
  "cells": [
    {
      "cell_type": "markdown",
      "metadata": {
        "id": "view-in-github",
        "colab_type": "text"
      },
      "source": [
        "<a href=\"https://colab.research.google.com/github/Shazmeen99/LetsUpgrade-Python-Batch7_Shazmeen/blob/master/Day_4_.ipynb\" target=\"_parent\"><img src=\"https://colab.research.google.com/assets/colab-badge.svg\" alt=\"Open In Colab\"/></a>"
      ]
    },
    {
      "cell_type": "code",
      "metadata": {
        "id": "gkHCjTMgiQiB",
        "colab_type": "code",
        "colab": {
          "base_uri": "https://localhost:8080/",
          "height": 52
        },
        "outputId": "abb8ebc4-7b7a-44fd-bd28-8a337cc8243b"
      },
      "source": [
        "#To find first Armstrong Number in the range 1042000 to 702648265\n",
        "for Number in range(1042000,702648265):\n",
        "  Sum = 0\n",
        "  Times = 0        \n",
        "  Temp = Number\n",
        "  while Temp > 0:\n",
        "           Times = Times + 1\n",
        "           Temp = Temp // 10\n",
        "  Temp = Number\n",
        "  while Temp > 0:\n",
        "           Remainder = Temp % 10\n",
        "           Sum = Sum + (Remainder ** Times)\n",
        "           Temp //= 10\n",
        "  if Number == Sum:\n",
        "           print(\"First Armstrong number in the range 1042000 to 702648265 found.\\n It is \", Number)\n",
        "           break\n",
        "  else:\n",
        "           continue\n",
        "  "
      ],
      "execution_count": 1,
      "outputs": [
        {
          "output_type": "stream",
          "text": [
            "First Armstrong number in the range 1042000 to 702648265 found.\n",
            " It is  1741725\n"
          ],
          "name": "stdout"
        }
      ]
    }
  ]
}