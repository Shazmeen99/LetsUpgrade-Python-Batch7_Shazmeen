{
  "nbformat": 4,
  "nbformat_minor": 0,
  "metadata": {
    "colab": {
      "name": "Untitled11.ipynb",
      "provenance": [],
      "authorship_tag": "ABX9TyPql+/O0D0jynOUzpi4xaqT",
      "include_colab_link": true
    },
    "kernelspec": {
      "name": "python3",
      "display_name": "Python 3"
    }
  },
  "cells": [
    {
      "cell_type": "markdown",
      "metadata": {
        "id": "view-in-github",
        "colab_type": "text"
      },
      "source": [
        "<a href=\"https://colab.research.google.com/github/Shazmeen99/LetsUpgrade-Python-Batch7_Shazmeen/blob/master/Day%205.ipynb\" target=\"_parent\"><img src=\"https://colab.research.google.com/assets/colab-badge.svg\" alt=\"Open In Colab\"/></a>"
      ]
    },
    {
      "cell_type": "code",
      "metadata": {
        "id": "jVIJgF4q56uI",
        "colab_type": "code",
        "colab": {
          "base_uri": "https://localhost:8080/",
          "height": 52
        },
        "outputId": "2595e7dc-545c-437e-d500-71789bd08b0e"
      },
      "source": [
        "lst1=[1,1,5,4,3,7,8,5,3,3]\n",
        "print (\"Original List= \", lst1)\n",
        "n=len(lst1)\n",
        "print(\"Length of list 1 is: \",n)"
      ],
      "execution_count": 31,
      "outputs": [
        {
          "output_type": "stream",
          "text": [
            "Original List=  [1, 1, 5, 4, 3, 7, 8, 5, 3, 3]\n",
            "Length of list 1 is:  10\n"
          ],
          "name": "stdout"
        }
      ]
    },
    {
      "cell_type": "code",
      "metadata": {
        "id": "YyhqXWI76ALc",
        "colab_type": "code",
        "colab": {
          "base_uri": "https://localhost:8080/",
          "height": 35
        },
        "outputId": "9593e82c-1eec-493d-f842-ac0c69be554e"
      },
      "source": [
        "def check_sublst(lst1):\n",
        "  for i in range(0,n):\n",
        "    if lst1[i]==1 and lst1[i+1]==1 and lst1[i+2]==5:\n",
        "      return True\n",
        "    else:\n",
        "      return False\n",
        "check_sublst(lst1)\n",
        "if (check_sublst=='False'):\n",
        "  print(\"It's gone\")\n",
        "else:\n",
        "  print(\"It's match\")"
      ],
      "execution_count": 30,
      "outputs": [
        {
          "output_type": "stream",
          "text": [
            "It's match\n"
          ],
          "name": "stdout"
        }
      ]
    }
  ]
}