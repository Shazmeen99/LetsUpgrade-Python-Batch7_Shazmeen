{
  "nbformat": 4,
  "nbformat_minor": 0,
  "metadata": {
    "colab": {
      "name": "Shazmeen_LU Python Batch7_Assignment 1_Day2.ipynb",
      "provenance": [],
      "collapsed_sections": [],
      "authorship_tag": "ABX9TyP2GfLF9bpO67OUNM8HC36p",
      "include_colab_link": true
    },
    "kernelspec": {
      "name": "python3",
      "display_name": "Python 3"
    }
  },
  "cells": [
    {
      "cell_type": "markdown",
      "metadata": {
        "id": "view-in-github",
        "colab_type": "text"
      },
      "source": [
        "<a href=\"https://colab.research.google.com/github/Shazmeen99/LetsUpgrade-Python-Batch7_Shazmeen/blob/master/Shazmeen_LU_Python_Batch7_Assignment_1_Day2.ipynb\" target=\"_parent\"><img src=\"https://colab.research.google.com/assets/colab-badge.svg\" alt=\"Open In Colab\"/></a>"
      ]
    },
    {
      "cell_type": "markdown",
      "metadata": {
        "id": "o78q8yNLjepZ",
        "colab_type": "text"
      },
      "source": [
        ""
      ]
    },
    {
      "cell_type": "code",
      "metadata": {
        "id": "GmzxQcOUj4sV",
        "colab_type": "code",
        "colab": {
          "base_uri": "https://localhost:8080/",
          "height": 444
        },
        "outputId": "7e527161-2799-4081-948d-7aec6dc360e5"
      },
      "source": [
        "#LIST\n",
        "list1 = ['physics', 'chemistry', 'biology', 2000, 5000, 6000];\n",
        "list2 = [1, 2, 3, 4, 5, 6,7,8, 8, 9,8,5];\n",
        "print (\"List 1: \", list1)\n",
        "print (\"List 2:\", list2)\n",
        "print (\"list1[0]: \", list1[0])\n",
        "print (\"list2[1:5]: \", list2[1:5])\n",
        "print (\"Value available at index 2 : \", list1[2])\n",
        "print (\"Value available at place 2 : \", list1[1])\n",
        "del list1[2];\n",
        "print (\"After deleting value at index 2 : \", list1)\n",
        "print(\"Length of List 1: \", len(list1)+1)\n",
        "print(\"Concatenated List 1and 2: \", list1+list2)\n",
        "print(3 in list1)\n",
        "print ('physics' in list1)\n",
        "print(\"Maximum of list 2: \",max(list2))\n",
        "print(\"Minimum of list 2: \",min(list2))\n",
        "print(\"5 occurs in list 2 \", list2.count(5), \"times\")\n",
        "print(\"Insert banana at index 5 in list 1: \", list1.insert(5, \"banana\"))\n",
        "print(\"List1: \", list1)\n",
        "list2.append(\"Oldman\")\n",
        "print (\" List 2: \", list2)\n",
        "i=1\n",
        "for x in list1:\n",
        "  print(\"Element at position \", i, \"is \", x)\n",
        "  i=i+1\n",
        "print(\"Reverse list 1: \", list1.reverse())\n"
      ],
      "execution_count": 48,
      "outputs": [
        {
          "output_type": "stream",
          "text": [
            "List 1:  ['physics', 'chemistry', 'biology', 2000, 5000, 6000]\n",
            "List 2: [1, 2, 3, 4, 5, 6, 7, 8, 8, 9, 8, 5]\n",
            "list1[0]:  physics\n",
            "list2[1:5]:  [2, 3, 4, 5]\n",
            "Value available at index 2 :  biology\n",
            "Value available at place 2 :  chemistry\n",
            "After deleting value at index 2 :  ['physics', 'chemistry', 2000, 5000, 6000]\n",
            "Length of List 1:  6\n",
            "Concatenated List 1and 2:  ['physics', 'chemistry', 2000, 5000, 6000, 1, 2, 3, 4, 5, 6, 7, 8, 8, 9, 8, 5]\n",
            "False\n",
            "True\n",
            "Maximum of list 2:  9\n",
            "Minimum of list 2:  1\n",
            "5 occurs in list 2  2 times\n",
            "Insert banana at index 5 in list 1:  None\n",
            "List1:  ['physics', 'chemistry', 2000, 5000, 6000, 'banana']\n",
            " List 2:  [1, 2, 3, 4, 5, 6, 7, 8, 8, 9, 8, 5, 'Oldman']\n",
            "Element at position  1 is  physics\n",
            "Element at position  2 is  chemistry\n",
            "Element at position  3 is  2000\n",
            "Element at position  4 is  5000\n",
            "Element at position  5 is  6000\n",
            "Element at position  6 is  banana\n",
            "Reverse list 1:  None\n"
          ],
          "name": "stdout"
        }
      ]
    },
    {
      "cell_type": "code",
      "metadata": {
        "id": "ml99cendoWrw",
        "colab_type": "code",
        "colab": {
          "base_uri": "https://localhost:8080/",
          "height": 461
        },
        "outputId": "0ce8dbcb-0719-4159-d0e7-3e3525d71d85"
      },
      "source": [
        "#TUPLE\n",
        "tuple1 = ('physics', 'chemistry', 'biology', 2000, 5000, 6000)\n",
        "tuple2 = (1, 2, 3, 4, 5, 6,7,8, 8, 9,8,5)\n",
        "print (\"Tuple 1: \", tuple1)\n",
        "print (\"Tuple 2:\", tuple2)\n",
        "print (\"tup1[0]: \", tuple1[0])\n",
        "print (\"tup2[1:5]: \", tuple2[1:5])\n",
        "tup3=tuple1+tuple2\n",
        "print(\"Tuple 3: \", tup3)\n",
        "tup4=(\"Heyy\",)\n",
        "print(\"Repetition of tuple4: \" , tup4*5)\n",
        "print(\"Length of Tuple 1: \", len(tuple1))\n",
        "print(\"Concatenated Tuple 1and 2: \", tuple1+tuple2)\n",
        "print(3 in tuple1)\n",
        "print ('physics' in tuple1)\n",
        "print(\"Maximum of tuple 2: \",max(tuple2))\n",
        "print(\"Minimum of tuple 2: \",min(tuple2))\n",
        "print(\"5 occurs in tuple 2 \", tuple2.count(5), \"times\")\n",
        "i=1\n",
        "for x in tuple2:\n",
        "  print(\"Element at position \", i, \"is \", x)\n",
        "  i=i+1"
      ],
      "execution_count": 46,
      "outputs": [
        {
          "output_type": "stream",
          "text": [
            "Tuple 1:  ('physics', 'chemistry', 'biology', 2000, 5000, 6000)\n",
            "Tuple 2: (1, 2, 3, 4, 5, 6, 7, 8, 8, 9, 8, 5)\n",
            "tup1[0]:  physics\n",
            "tup2[1:5]:  (2, 3, 4, 5)\n",
            "Tuple 3:  ('physics', 'chemistry', 'biology', 2000, 5000, 6000, 1, 2, 3, 4, 5, 6, 7, 8, 8, 9, 8, 5)\n",
            "Repetition of tuple4:  ('Heyy', 'Heyy', 'Heyy', 'Heyy', 'Heyy')\n",
            "Length of Tuple 1:  6\n",
            "Concatenated Tuple 1and 2:  ('physics', 'chemistry', 'biology', 2000, 5000, 6000, 1, 2, 3, 4, 5, 6, 7, 8, 8, 9, 8, 5)\n",
            "False\n",
            "True\n",
            "Maximum of tuple 2:  9\n",
            "Minimum of tuple 2:  1\n",
            "5 occurs in tuple 2  2 times\n",
            "Element at index  1 is  1\n",
            "Element at index  2 is  2\n",
            "Element at index  3 is  3\n",
            "Element at index  4 is  4\n",
            "Element at index  5 is  5\n",
            "Element at index  6 is  6\n",
            "Element at index  7 is  7\n",
            "Element at index  8 is  8\n",
            "Element at index  9 is  8\n",
            "Element at index  10 is  9\n",
            "Element at index  11 is  8\n",
            "Element at index  12 is  5\n"
          ],
          "name": "stdout"
        }
      ]
    },
    {
      "cell_type": "code",
      "metadata": {
        "id": "sw2QVmM7rmPY",
        "colab_type": "code",
        "colab": {
          "base_uri": "https://localhost:8080/",
          "height": 301
        },
        "outputId": "2758d8fd-e0a7-4ecf-ee40-ee0088b8568e"
      },
      "source": [
        "#DICTIONARY\n",
        "dict = {'Name': 'Allen', 'Age': 17, 'Fav Color': 'Blue'}\n",
        "print (\"dict['Name']: \", dict['Name'])\n",
        "print (\"dict['Age']: \", dict['Age'])\n",
        "dict['Age'] = 8; # update existing entry\n",
        "dict['School'] = \"DPS School\"; # Add new entry\n",
        "print (\"dict['Age']: \", dict['Age'])\n",
        "print (\"dict['School']: \", dict['School'])\n",
        "print (\"Dictionary1 :\", dict)\n",
        "dict2={'Name': 'Zey', 'Age': 8, 'Fav Color': 'Green', 'School':'BRS'}\n",
        "print (\"Dictionary2:\", dict2)\n",
        "dict3={'Name': 'Aleen', 'Age': 8, 'Fav Color': 'Pink', 'School':'KV'}\n",
        "print(\"Length of Dict 1:\", len(dict))\n",
        "print(\"string representation of dictionary1\", str(dict))\n",
        "print(\"Type of variable dict2:\", type(dict2))\n",
        "print(\"Keys in dictionary1:\", dict.keys())\n",
        "dict.update(dict3)\n",
        "print (\"Updated Dictionary 1: \",dict)\n",
        "print(\"Values in dictionary1:\", dict.values())\n",
        "print(\"Items in Dictionary 2: \\n\", \tdict2.items())\n",
        "del dict3['Name']; \n",
        "print(\"Dictionary 3 with dleted name:\", dict3)\n",
        "dict3.clear();     \n",
        "print(\"Dictionary 3 with values cleared: \",dict3)\n",
        "del(dict3) \n",
        "#print (dict3) will show error because dict3 has been deleted\n"
      ],
      "execution_count": 78,
      "outputs": [
        {
          "output_type": "stream",
          "text": [
            "dict['Name']:  Allen\n",
            "dict['Age']:  17\n",
            "dict['Age']:  8\n",
            "dict['School']:  DPS School\n",
            "Dictionary1 : {'Name': 'Allen', 'Age': 8, 'Fav Color': 'Blue', 'School': 'DPS School'}\n",
            "Dictionary2: {'Name': 'Zey', 'Age': 8, 'Fav Color': 'Green', 'School': 'BRS'}\n",
            "Length of Dict 1: 4\n",
            "string representation of dictionary1 {'Name': 'Allen', 'Age': 8, 'Fav Color': 'Blue', 'School': 'DPS School'}\n",
            "Type of variable dict2: <class 'dict'>\n",
            "Keys in dictionary1: dict_keys(['Name', 'Age', 'Fav Color', 'School'])\n",
            "Updated Dictionary 1:  {'Name': 'Aleen', 'Age': 8, 'Fav Color': 'Pink', 'School': 'KV'}\n",
            "Values in dictionary1: dict_values(['Aleen', 8, 'Pink', 'KV'])\n",
            "Items in Dictionary 2: \n",
            " dict_items([('Name', 'Zey'), ('Age', 8), ('Fav Color', 'Green'), ('School', 'BRS')])\n",
            "Dictionary 3 with dleted name: {'Age': 8, 'Fav Color': 'Pink', 'School': 'KV'}\n",
            "Dictionary 3 with values cleared:  {}\n"
          ],
          "name": "stdout"
        }
      ]
    },
    {
      "cell_type": "code",
      "metadata": {
        "id": "YvGnxyA017SQ",
        "colab_type": "code",
        "colab": {
          "base_uri": "https://localhost:8080/",
          "height": 284
        },
        "outputId": "70e7e72e-b862-4825-8399-fb9c8159e7d7"
      },
      "source": [
        "#STRING\n",
        "str1 = 'Hello World! Welcome to Python'\n",
        "str2 = 'Programming is Fun!'\n",
        "print(\"String 1: \", str1)\n",
        "print(\"String 2: \", str2)\n",
        "print (\"Letter at index range from 0 to 11 of string 2: \", str2[0:11])\n",
        "print (\"Updated String1 : \", str1[:30] + ' Programming!!')\n",
        "str3=\"shout Wohoooo!!\"\n",
        "print(\"Concatenated strings 2 and 3: \", (str2+str3))\n",
        "print(\"Repeat string 3, 5 times\", (str3*5))\n",
        "print(\"Capitalized string 3: \", str3.capitalize())\n",
        "print(\"Does str2 end with fun?: \", str2.endswith('yippee'))\n",
        "str4='43267282'\n",
        "print (\"Str4 contains only digit: \",str4.isdigit())\n",
        "print(\"Length of string 2: \", len(str2))\n",
        "print(\"String 1 in all lowercase: \", str1.lower())\n",
        "print(\"Maximum of string 4: \",max(str4))\n",
        "print(\"Minimum of string 4: \",min(str4))\n",
        "print(\"Does str3 start with s: \", str3.startswith('s'))\n",
        "print(\"Swap case of string 2: \", str2.swapcase())"
      ],
      "execution_count": 105,
      "outputs": [
        {
          "output_type": "stream",
          "text": [
            "String 1:  Hello World! Welcome to Python\n",
            "String 2:  Programming is Fun!\n",
            "Letter at index range from 0 to 11 of string 2:  Programming\n",
            "Updated String1 :  Hello World! Welcome to Python Programming!!\n",
            "Concatenated strings 2 and 3:  Programming is Fun!shout Wohoooo!!\n",
            "Repeat string 3, 5 times shout Wohoooo!!shout Wohoooo!!shout Wohoooo!!shout Wohoooo!!shout Wohoooo!!\n",
            "Capitalized string 3:  Shout wohoooo!!\n",
            "Does str2 end with fun?:  False\n",
            "Str4 contains only digit:  True\n",
            "Length of string 2:  19\n",
            "String 1 in all lowercase:  hello world! welcome to python\n",
            "Maximum of string 4:  8\n",
            "Minimum of string 4:  2\n",
            "Does str3 start with s:  True\n",
            "Swap case of string 2:  pROGRAMMING IS fUN!\n"
          ],
          "name": "stdout"
        }
      ]
    },
    {
      "cell_type": "code",
      "metadata": {
        "id": "krgAoZ2CEVFP",
        "colab_type": "code",
        "colab": {
          "base_uri": "https://localhost:8080/",
          "height": 319
        },
        "outputId": "126d3573-f609-487e-9f8e-6487f0928eea"
      },
      "source": [
        "#SETS\n",
        "set1={\"Apple\", \"Banana\", \"Cherry\", \"Kiwi\",\"Avocado\",\"Mango\"}\n",
        "print(\"Set1:\", set1)\n",
        "set2={\"Mango\",\"CustardApple\",\"Orange\",\"Strawberry\"}\n",
        "print(\"Set2:\", set2)\n",
        "print(\"Set1 fruits list:-\")\n",
        "for x in set1:\n",
        "\tprint(x)\n",
        "print(\"Add Berries to set1\", set1.add(\"Berries\"))\n",
        "print( set1)\n",
        "set1.discard(\"Berries\")\n",
        "print(\"Set1 with discarded Berries\", set1)\n",
        "Fruits = set1|set2\n",
        "print(\"Union of set1 and set2\", Fruits)\n",
        "Fruits = set1 & set2\n",
        "print(\"Intersection of set1 and set2\", Fruits)\n",
        "Fruits = set1 - set2\n",
        "print(\"Difference of set1 and set2\", Fruits)\n",
        "SubsetRes = set1 <= set2\n",
        "SupersetRes = set2 >= set1\n",
        "print(\"Set1 is subset of Set2\",SubsetRes)\n",
        "print(\"Set1 is superset of Set2\",SupersetRes)\n"
      ],
      "execution_count": 119,
      "outputs": [
        {
          "output_type": "stream",
          "text": [
            "Set1: {'Kiwi', 'Banana', 'Apple', 'Cherry', 'Avocado', 'Mango'}\n",
            "Set2: {'Strawberry', 'Mango', 'CustardApple', 'Orange'}\n",
            "Set1 fruits list:-\n",
            "Kiwi\n",
            "Banana\n",
            "Apple\n",
            "Cherry\n",
            "Avocado\n",
            "Mango\n",
            "Add Berries to set1 None\n",
            "{'Kiwi', 'Banana', 'Apple', 'Cherry', 'Berries', 'Avocado', 'Mango'}\n",
            "Set1 with discarded Berries {'Kiwi', 'Banana', 'Apple', 'Cherry', 'Avocado', 'Mango'}\n",
            "Union of set1 and set2 {'Kiwi', 'Banana', 'Apple', 'CustardApple', 'Cherry', 'Avocado', 'Mango', 'Strawberry', 'Orange'}\n",
            "Intersection of set1 and set2 {'Mango'}\n",
            "Difference of set1 and set2 {'Kiwi', 'Banana', 'Apple', 'Cherry', 'Avocado'}\n",
            "Set1 is subset of Set2 False\n",
            "Set1 is superset of Set2 False\n"
          ],
          "name": "stdout"
        }
      ]
    }
  ]
}
